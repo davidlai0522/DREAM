{
 "cells": [
  {
   "cell_type": "code",
   "execution_count": 3,
   "metadata": {},
   "outputs": [],
   "source": [
    "from move_training_env import MoveTrainingEnv\n",
    "from stable_baselines3.common.callbacks import CheckpointCallback\n",
    "from stable_baselines3 import PPO\n",
    "\n",
    "import os\n",
    "import numpy as np"
   ]
  },
  {
   "cell_type": "code",
   "execution_count": null,
   "metadata": {},
   "outputs": [
    {
     "name": "stderr",
     "output_type": "stream",
     "text": [
      "\u001b[1m\u001b[32m[robosuite INFO] \u001b[0mLoading controller configuration from: c:\\Users\\xiaoyicong\\anaconda3\\envs\\robosuite_project\\lib\\site-packages\\robosuite\\controllers\\config\\robots\\default_panda.json (composite_controller_factory.py:121)\n"
     ]
    },
    {
     "ename": "NameError",
     "evalue": "name '__file__' is not defined",
     "output_type": "error",
     "traceback": [
      "\u001b[1;31m---------------------------------------------------------------------------\u001b[0m",
      "\u001b[1;31mNameError\u001b[0m                                 Traceback (most recent call last)",
      "Cell \u001b[1;32mIn[5], line 14\u001b[0m\n\u001b[0;32m     12\u001b[0m total_timesteps \u001b[38;5;241m=\u001b[39m \u001b[38;5;241m1000\u001b[39m\n\u001b[0;32m     13\u001b[0m save_freq \u001b[38;5;241m=\u001b[39m \u001b[38;5;241m100\u001b[39m\n\u001b[1;32m---> 14\u001b[0m save_path \u001b[38;5;241m=\u001b[39m os\u001b[38;5;241m.\u001b[39mpath\u001b[38;5;241m.\u001b[39mdirname(os\u001b[38;5;241m.\u001b[39mpath\u001b[38;5;241m.\u001b[39mabspath(\u001b[38;5;18;43m__file__\u001b[39;49m))\n\u001b[0;32m     15\u001b[0m name_prefix \u001b[38;5;241m=\u001b[39m \u001b[38;5;124m\"\u001b[39m\u001b[38;5;124mppo_panda_reach\u001b[39m\u001b[38;5;124m\"\u001b[39m\n\u001b[0;32m     17\u001b[0m \u001b[38;5;66;03m# Initialize the checkpoint callback\u001b[39;00m\n",
      "\u001b[1;31mNameError\u001b[0m: name '__file__' is not defined"
     ]
    }
   ],
   "source": [
    "# Create environment instance\n",
    "env = MoveTrainingEnv(\n",
    "    robots=\"Panda\",  # Use Panda robot\n",
    "    gripper_types=\"default\",\n",
    "    has_renderer=True,  # Enable visualization\n",
    "    has_offscreen_renderer=False,  # Disable offscreen rendering\n",
    "    use_camera_obs=False,  # Don't use camera observations\n",
    "    reward_shaping=False,  # Enable reward shaping\n",
    ")\n",
    "\n",
    "# Configurations\n",
    "total_timesteps = 1000\n",
    "#save_freq = 100\n",
    "#save_path = os.path.dirname(os.path.abspath(__file__))\n",
    "name_prefix = \"ppo_panda_reach\"\n",
    "\n",
    "# # Initialize the checkpoint callback\n",
    "# checkpoint_callback = CheckpointCallback(\n",
    "#     save_freq=save_freq,\n",
    "#     save_path=save_path,\n",
    "#     name_prefix=name_prefix,\n",
    "#     save_replay_buffer=True,\n",
    "# )\n",
    "\n",
    "# Define the model\n",
    "model = PPO(\"MlpPolicy\", env, verbose=1)"
   ]
  },
  {
   "cell_type": "code",
   "execution_count": null,
   "metadata": {},
   "outputs": [],
   "source": [
    "\n",
    "# Train the model\n",
    "model.learn(total_timesteps=total_timesteps, callback=checkpoint_callback)\n",
    "current_time = datetime.now().strftime(\"%Y%m%d_%H%M%S\")\n",
    "model.save(f\"{os.path.dirname(os.path.abspath(__file__))}/{name_prefix}_{current_time}_{str(total_timesteps)}\")\n",
    "env.close()\n",
    "\n",
    "exit()"
   ]
  }
 ],
 "metadata": {
  "kernelspec": {
   "display_name": "robosuite_project",
   "language": "python",
   "name": "python3"
  },
  "language_info": {
   "codemirror_mode": {
    "name": "ipython",
    "version": 3
   },
   "file_extension": ".py",
   "mimetype": "text/x-python",
   "name": "python",
   "nbconvert_exporter": "python",
   "pygments_lexer": "ipython3",
   "version": "3.10.16"
  }
 },
 "nbformat": 4,
 "nbformat_minor": 2
}
